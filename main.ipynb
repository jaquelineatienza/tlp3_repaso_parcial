{
 "cells": [
  {
   "cell_type": "markdown",
   "id": "9fee5ee9",
   "metadata": {},
   "source": [
    "# Modelo de Examen Practico - TLP3 - Python para Ciencia de Datos.\n"
   ]
  },
  {
   "cell_type": "markdown",
   "id": "999099d0",
   "metadata": {},
   "source": [
    "**A partir del datasets brindado, realizar los siguientes procedimientos:**\n",
    "\n",
    "* Importar datasets con Pandas.\n",
    "* Explorar los datos con los metodos correspondientes. \n",
    "* Limpieza de los datos (Normalización de datos).\n",
    "* Obtener estadisticas.\n",
    "* Mostrar los datos procesados con graficos utilizando la libreria Matplotlib.\n",
    "* Exportar el contenido a un archivo sqlite utilizando PANDAS.\n",
    "\n",
    "\n",
    "**Importante: Se debe documentar cada procedimiento realizado, siguiendo la siguiente estructura:**\n",
    "\n",
    "1. Celda de Markdown (Documentación)\n",
    "2. Código (Sin comentarios, se debe documentar lo sufiente solo en la celda de markdown)."
   ]
  },
  {
   "cell_type": "markdown",
   "id": "dd91f969",
   "metadata": {},
   "source": []
  },
  {
   "cell_type": "markdown",
   "id": "bf3c2d53",
   "metadata": {},
   "source": [
    "## Actividades: \n",
    "### 1. Importación del Dataset con Pandas\n",
    "\n",
    "En esta sección, se debe utilizar la librería Pandas para cargar el archivo CSV que contiene los datos de las calificaciones en un DataFrame, que es la estructura de datos fundamental para el análisis con Pandas.\n",
    "\n",
    "### 2. Exploración Inicial de los Datos\n",
    "\n",
    "A continuación, se deben emplear métodos de Pandas para obtener una visión general del dataset. Esto incluye mostrar las primeras filas, obtener un resumen de la información del DataFrame (tipos de datos, valores no nulos), y calcular estadísticas descriptivas de las columnas numéricas.\n",
    "\n",
    "### 3. Limpieza y Normalización de los Datos\n",
    "\n",
    "Esta etapa crucial deben aplicar la corrección de diversos errores presentes en el dataset. Se abordarán los valores faltantes, la inconsistencia en el formato de la columna 'Asistencia', los posibles valores atípicos y la normalización de los nombres de estudiantes y materias a un formato consistente (por ejemplo, capitalización).\n",
    "\n",
    "### 4. Obtención de Estadísticas Descriptivas\n",
    "\n",
    "Después de la limpieza, deben calcular nuevamente las estadísticas descriptivas para observar el impacto del proceso de limpieza en los datos numéricos. También se pueden calcular estadísticas específicas por grupo (por ejemplo, promedio de calificaciones por materia).\n",
    "\n",
    "### 5. Visualización de los Datos con Matplotlib\n",
    "\n",
    "En esta sección, deben utilizar la librería Matplotlib para crear visualizaciones que permitan comprender mejor la distribución de las calificaciones y la asistencia. Se generarán histogramas, diagramas de dispersión y gráficos de barras.\n",
    "\n",
    "### 6. Exportación a Archivo SQLite\n",
    "\n",
    "Finalmente, deben utilizar la funcionalidad de Pandas para guardar el DataFrame procesado en una base de datos SQLite. Esto permite almacenar los datos de forma estructurada para su posterior consulta y uso.\n",
    "\n"
   ]
  },
  {
   "cell_type": "code",
   "execution_count": 16,
   "id": "ee874a51",
   "metadata": {},
   "outputs": [],
   "source": [
    "#1\n",
    "\n",
    "import pandas as pd\n",
    "archivo = pd.read_csv(\"datasets_calificaciones.csv\")\n",
    "df= pd.DataFrame(archivo)\n",
    "\n"
   ]
  },
  {
   "cell_type": "code",
   "execution_count": 17,
   "id": "ffca9eac",
   "metadata": {},
   "outputs": [
    {
     "name": "stdout",
     "output_type": "stream",
     "text": [
      "        estudiante      Materia Parcial 1 Parcial 2 Final Asistencia\n",
      "0        ana pérez  matematicas         8       7.5     9        95%\n",
      "1     carlos lópez       fisica       6.2         7   NaN        88%\n",
      "2      maría gómez      quimica         9       8.8   9.5       100%\n",
      "3  pedro rodríguez     historia       7.5         6     7         75\n",
      "4     laura vargas  matematicas                 9.2   8.5        92%\n"
     ]
    }
   ],
   "source": [
    "#los primero 5 \n",
    "print(df.head())\n"
   ]
  },
  {
   "cell_type": "code",
   "execution_count": 18,
   "id": "5580931b",
   "metadata": {},
   "outputs": [
    {
     "name": "stdout",
     "output_type": "stream",
     "text": [
      "estudiante     0\n",
      "Materia        0\n",
      "Parcial 1      5\n",
      "Parcial 2     10\n",
      "Final         11\n",
      "Asistencia     0\n",
      "dtype: int64\n"
     ]
    }
   ],
   "source": [
    "#nulos\n",
    "result=df.isnull().sum()\n",
    "print(result)\n"
   ]
  },
  {
   "cell_type": "code",
   "execution_count": 19,
   "id": "379d8cc1",
   "metadata": {},
   "outputs": [
    {
     "name": "stdout",
     "output_type": "stream",
     "text": [
      "estudiante    object\n",
      "Materia       object\n",
      "Parcial 1     object\n",
      "Parcial 2     object\n",
      "Final         object\n",
      "Asistencia    object\n",
      "dtype: object\n"
     ]
    }
   ],
   "source": [
    "#tipo\n",
    "print(df.dtypes)"
   ]
  },
  {
   "cell_type": "code",
   "execution_count": 20,
   "id": "b6b82ab5",
   "metadata": {},
   "outputs": [
    {
     "name": "stdout",
     "output_type": "stream",
     "text": [
      "promedio 7.831818181818182\n",
      "media 7.9\n",
      "desviacion estandar 1.2098774949428022\n"
     ]
    }
   ],
   "source": [
    "\n",
    "df['Parcial 1'] = pd.to_numeric(df['Parcial 1'], errors='coerce')\n",
    "#promedio\n",
    "result = df['Parcial 1'].mean()\n",
    "print(\"promedio\",result)\n",
    "#media\n",
    "result2 = df['Parcial 1'].median()\n",
    "print(\"media\",result2)\n",
    "#desviacion estandar\n",
    "result3= df['Parcial 1'].std()\n",
    "print(\"desviacion estandar\",result3)\n",
    "\n"
   ]
  },
  {
   "cell_type": "code",
   "execution_count": 21,
   "id": "c9fdeb85",
   "metadata": {},
   "outputs": [
    {
     "name": "stdout",
     "output_type": "stream",
     "text": [
      "promedio 7.8306818181818185\n",
      "media 7.7\n",
      "desviacion estandar 1.1829592694716247\n"
     ]
    }
   ],
   "source": [
    "df['Parcial 2'] = pd.to_numeric(df['Parcial 2'], errors='coerce')\n",
    "#promedio\n",
    "result = df['Parcial 2'].mean()\n",
    "print(\"promedio\",result)\n",
    "#media\n",
    "result2 = df['Parcial 2'].median()\n",
    "print(\"media\",result2)\n",
    "#desviacion estandar\n",
    "result3= df['Parcial 2'].std()\n",
    "print(\"desviacion estandar\",result3)"
   ]
  },
  {
   "cell_type": "code",
   "execution_count": 22,
   "id": "4c25c345",
   "metadata": {},
   "outputs": [
    {
     "name": "stdout",
     "output_type": "stream",
     "text": [
      "promedio 7.894117647058824\n",
      "media 7.8\n",
      "desviacion estandar 1.2062686407320076\n"
     ]
    }
   ],
   "source": [
    "df['Final'] = pd.to_numeric(df['Final'], errors='coerce')\n",
    "#promedio\n",
    "result = df['Final'].mean()\n",
    "print(\"promedio\",result)\n",
    "#media\n",
    "result2 = df['Final'].median()\n",
    "print(\"media\",result2)\n",
    "#desviacion estandar\n",
    "result3= df['Final'].std()\n",
    "print(\"desviacion estandar\",result3)"
   ]
  },
  {
   "cell_type": "code",
   "execution_count": 23,
   "id": "1e1f7cef",
   "metadata": {},
   "outputs": [
    {
     "name": "stdout",
     "output_type": "stream",
     "text": [
      "promedio 75.0\n",
      "media 75.0\n",
      "desviacion estandar nan\n"
     ]
    }
   ],
   "source": [
    "df['Asistencia'] = pd.to_numeric(df['Asistencia'], errors='coerce')\n",
    "#promedio\n",
    "result = df['Asistencia'].mean()\n",
    "print(\"promedio\",result)\n",
    "#media\n",
    "result2 = df['Asistencia'].median()\n",
    "print(\"media\",result2)\n",
    "#desviacion estandar\n",
    "result3= df['Asistencia'].std()\n",
    "print(\"desviacion estandar\",result3)"
   ]
  }
 ],
 "metadata": {
  "kernelspec": {
   "display_name": "parcial",
   "language": "python",
   "name": "python3"
  },
  "language_info": {
   "codemirror_mode": {
    "name": "ipython",
    "version": 3
   },
   "file_extension": ".py",
   "mimetype": "text/x-python",
   "name": "python",
   "nbconvert_exporter": "python",
   "pygments_lexer": "ipython3",
   "version": "3.13.3"
  }
 },
 "nbformat": 4,
 "nbformat_minor": 5
}
